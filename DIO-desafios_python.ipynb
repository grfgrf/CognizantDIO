{
 "cells": [
  {
   "cell_type": "code",
   "execution_count": 1,
   "id": "49e4130d",
   "metadata": {},
   "outputs": [
    {
     "name": "stdout",
     "output_type": "stream",
     "text": [
      "FAILURE\n"
     ]
    }
   ],
   "source": [
    "import re\n",
    "placa=\"ABC1231\"\n",
    "valida_placa= re.match(r'\\b[A-Z]{3}-[0-9]{4}\\b',placa)\n",
    "if valida_placa:\n",
    "    ultimo_digito = int(placa[-1])\n",
    "    if (ultimo_digito == 0) or (ultimo_digito == 9):\n",
    "        print('FRIDAY')\n",
    "    elif ultimo_digito > 6:\n",
    "        print('THURSDAY')\n",
    "    elif ultimo_digito > 4:\n",
    "        print('WEDNESDAY')\n",
    "    elif ultimo_digito > 2:\n",
    "        print('TUESDAY')\n",
    "    else:\n",
    "        print('MONDAY')\n",
    "else:\n",
    "    print('FAILURE')\n"
   ]
  },
  {
   "cell_type": "code",
   "execution_count": 10,
   "id": "e35f9c89",
   "metadata": {},
   "outputs": [
    {
     "name": "stdout",
     "output_type": "stream",
     "text": [
      "N[0] = 21.2000\n",
      "N[1] = 10.6000\n",
      "N[2] = 5.3000\n",
      "N[3] = 2.6500\n",
      "N[4] = 1.3250\n"
     ]
    }
   ],
   "source": [
    "x = 21.2\n",
    "for i in range(5): #range(100)\n",
    "    print(\"N[{}] = {}\".format(i,format(x, '.4f')))\n",
    "    x /= 2"
   ]
  },
  {
   "cell_type": "code",
   "execution_count": 3,
   "id": "d7b4c55e",
   "metadata": {},
   "outputs": [
    {
     "name": "stdout",
     "output_type": "stream",
     "text": [
      "De Madrugada!!\n"
     ]
    }
   ],
   "source": [
    "n = 270\n",
    "\n",
    "if (n == 360) or (n>=0 and n<=89):\n",
    "    print('Bom Dia!!')\n",
    "elif (n>=90 and n<=179):\n",
    "    print('Boa Tarde!!')\n",
    "elif (n>=180 and n<=269):\n",
    "    print('Boa Noite!!')\n",
    "elif (n>=270 and n<=359):\n",
    "    print('De Madrugada!!')\n",
    "    \n",
    "    "
   ]
  },
  {
   "cell_type": "code",
   "execution_count": 4,
   "id": "e2423141",
   "metadata": {},
   "outputs": [
    {
     "name": "stdout",
     "output_type": "stream",
     "text": [
      "0 1 1 2 3 5 8 13 21 34\n"
     ]
    }
   ],
   "source": [
    "n = 10\n",
    "\n",
    "fib_list = []\n",
    "\n",
    "\n",
    "if n == 1:\n",
    "        fib_list.append(0)\n",
    "elif n > 1:\n",
    "    fib_list.append(0)\n",
    "    fib_list.append(1)\n",
    "    \n",
    "for i in range(1,n-1):\n",
    "    fib_list.append(fib_list[i]+fib_list[i-1])\n",
    "\n",
    "fib_string = ' '.join(map(str, fib_list))\n",
    "print(fib_string)"
   ]
  },
  {
   "cell_type": "code",
   "execution_count": 5,
   "id": "d6b0f0fc",
   "metadata": {},
   "outputs": [
    {
     "name": "stdout",
     "output_type": "stream",
     "text": [
      "2\n",
      "4\n",
      "6\n"
     ]
    }
   ],
   "source": [
    "n = 7\n",
    "for i in range(2,n+1,2):\n",
    "    print(i)"
   ]
  },
  {
   "cell_type": "code",
   "execution_count": 6,
   "id": "27b0487b",
   "metadata": {},
   "outputs": [
    {
     "name": "stdout",
     "output_type": "stream",
     "text": [
      "3\n"
     ]
    }
   ],
   "source": [
    "N = 3\n",
    "persons = [10,11,5]\n",
    "\n",
    "#da lista pegar o indice+1 com o menor valor de dano?????\n",
    "lowest_pos = 0\n",
    "for i in range(N):\n",
    "    if i == 0:\n",
    "        lowest = persons[0]\n",
    "        continue\n",
    "    if  persons[i] < lowest:              \n",
    "        lowest = persons[i]\n",
    "        lowest_pos = i\n",
    "print(lowest_pos+1)"
   ]
  },
  {
   "cell_type": "code",
   "execution_count": null,
   "id": "731aab90",
   "metadata": {},
   "outputs": [],
   "source": []
  }
 ],
 "metadata": {
  "kernelspec": {
   "display_name": "Python 3",
   "language": "python",
   "name": "python3"
  },
  "language_info": {
   "codemirror_mode": {
    "name": "ipython",
    "version": 3
   },
   "file_extension": ".py",
   "mimetype": "text/x-python",
   "name": "python",
   "nbconvert_exporter": "python",
   "pygments_lexer": "ipython3",
   "version": "3.8.8"
  }
 },
 "nbformat": 4,
 "nbformat_minor": 5
}
